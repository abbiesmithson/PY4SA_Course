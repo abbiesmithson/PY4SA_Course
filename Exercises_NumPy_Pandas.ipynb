{
 "cells": [
  {
   "cell_type": "markdown",
   "id": "22251e58-78c4-44bf-b39e-a3e7619120ee",
   "metadata": {},
   "source": [
    "# Python for Spatial Analysis\n",
    "## Second part of the module of GG3209 Spatial Analysis with GIS.\n",
    "### Notebook to practice NumPy and Pandas - Exercises\n",
    "\n",
    "---\n",
    "Dr Fernando Benitez -  University of St Andrews - School of Geography and Sustainable Development - First Iteration 2023 v.1.0 "
   ]
  },
  {
   "cell_type": "markdown",
   "id": "eaf0b951",
   "metadata": {},
   "source": [
    "# Practicing NumPy"
   ]
  },
  {
   "cell_type": "markdown",
   "id": "36aaf97a",
   "metadata": {},
   "source": [
    "## 2.0 \n",
    "Import numpy under the alias `np`."
   ]
  },
  {
   "cell_type": "code",
   "execution_count": 1,
   "id": "51aa53cd",
   "metadata": {},
   "outputs": [],
   "source": [
    "import numpy as np"
   ]
  },
  {
   "cell_type": "markdown",
   "id": "10df0fb9",
   "metadata": {},
   "source": [
    "## 2.1 \n",
    "\n",
    "Create the following arrays:\n",
    "\n",
    "* Create an array of 10 ones.\n",
    "\n",
    "* Create an array of the integers 1 to 20.\n",
    "\n",
    "* Create a 5 x 5 matrix of ones with a dtype int."
   ]
  },
  {
   "cell_type": "code",
   "execution_count": 2,
   "id": "5a1b83d1",
   "metadata": {},
   "outputs": [
    {
     "name": "stdout",
     "output_type": "stream",
     "text": [
      "<class 'list'>\n",
      "<class 'numpy.ndarray'>\n",
      "[1 1 1 1 1 1 1 1 1 1]\n"
     ]
    }
   ],
   "source": [
    "lst1 = [1, 1, 1, 1, 1, 1, 1, 1, 1, 1]\n",
    "arr1 = np.array(lst1)\n",
    "print(type(lst1))\n",
    "print(type(arr1))\n",
    "print(arr1)\n"
   ]
  },
  {
<<<<<<< HEAD:Exercises_NumPy_Pandas.ipynb
=======
   "cell_type": "code",
   "execution_count": 4,
   "id": "40c4d6ef-95f7-408d-a60b-b5a101b71f02",
   "metadata": {},
   "outputs": [
    {
     "name": "stdout",
     "output_type": "stream",
     "text": [
      "<class 'list'>\n",
      "<class 'numpy.ndarray'>\n",
      "[ 1  2  3  4  5  6  7  8  9 10 11 12 13 14 15 16 17 18 19 20]\n"
     ]
    }
   ],
   "source": [
    "lst2 = [1, 2, 3, 4, 5, 6, 7, 8, 9, 10, 11, 12, 13, 14, 15, 16, 17, 18, 19, 20]\n",
    "arr2 = np.array(lst2)\n",
    "print(type(lst2))\n",
    "print(type(arr2))\n",
    "print(arr2)"
   ]
  },
  {
   "cell_type": "code",
   "execution_count": 8,
   "id": "beb64921-f1e0-4faf-81df-6daab3588b61",
   "metadata": {},
   "outputs": [
    {
     "name": "stdout",
     "output_type": "stream",
     "text": [
      "[[1 1 1 1 1]\n",
      " [1 1 1 1 1]\n",
      " [1 1 1 1 1]\n",
      " [1 1 1 1 1]\n",
      " [1 1 1 1 1]]\n"
     ]
    }
   ],
   "source": [
    "import numpy as np\n",
    "\n",
    "lst3= [[1,1,1,1,1], [1,1,1,1,1], [1,1,1,1,1], [1,1,1,1,1], [1,1,1,1,1]]\n",
    "arr3 = np. array(lst3, dtype=\"int\")\n",
    "print(arr3)"
   ]
  },
  {
   "cell_type": "code",
   "execution_count": 21,
   "id": "fe9e9187-5248-4803-8b1b-b6c49ece2fba",
   "metadata": {},
   "outputs": [
    {
     "name": "stdout",
     "output_type": "stream",
     "text": [
      "[[1. 1. 1. 1. 1.]\n",
      " [1. 1. 1. 1. 1.]\n",
      " [1. 1. 1. 1. 1.]\n",
      " [1. 1. 1. 1. 1.]\n",
      " [1. 1. 1. 1. 1.]]\n"
     ]
    }
   ],
   "source": [
    "arr4= np.ones((5,5,))\n",
    "print(arr4)"
   ]
  },
  {
>>>>>>> 0a37d44 (May possibly go horribly horribly wrong):exercises/Exercises_NumPy_Pandas.ipynb
   "cell_type": "markdown",
   "id": "f4d5f95c",
   "metadata": {},
   "source": [
    "## 2.2 \n",
    "Use numpy to:\n",
    "1. Create an 3D matrix of 3 x 3 x 3 full of random numbers drawn from a standard normal distribution (hint: `np.random.randn()`)\n",
    "2. Reshape the above array into shape (27,)"
   ]
  },
  {
   "cell_type": "code",
   "execution_count": 15,
   "id": "ac3df66e",
   "metadata": {},
   "outputs": [
    {
     "name": "stdout",
     "output_type": "stream",
     "text": [
      "[[[-0.9589416  -0.83051577  0.59730433]\n",
      "  [ 0.60822469  0.10970224 -0.98028164]\n",
      "  [ 1.40073434 -0.05436812  0.775664  ]]\n",
      "\n",
      " [[ 0.38023863  0.36217552 -0.67054609]\n",
      "  [-1.27320502 -1.21188581 -0.69351361]\n",
      "  [ 1.19847128 -0.74399207 -1.63311182]]\n",
      "\n",
      " [[ 0.28207038 -1.91933349  0.25660137]\n",
      "  [-0.02616986 -2.03560365  0.93945968]\n",
      "  [-0.24018713 -0.53874119  0.59206071]]]\n"
     ]
    }
   ],
   "source": [
    "import numpy as np\n",
    "\n",
    "arr4= np.random.randn(3, 3, 3)\n",
    "print(arr4)"
   ]
  },
  {
   "cell_type": "markdown",
   "id": "5bbbbc97",
   "metadata": {},
   "source": [
    "# 2.3 \n",
    "\n",
    "Create an array of 20 linearly spaced numbers between 1 and 10."
   ]
  },
  {
   "cell_type": "code",
   "execution_count": 25,
   "id": "3304c495",
   "metadata": {},
   "outputs": [
    {
     "name": "stdout",
     "output_type": "stream",
     "text": [
      "[ 1.          1.47368421  1.94736842  2.42105263  2.89473684  3.36842105\n",
      "  3.84210526  4.31578947  4.78947368  5.26315789  5.73684211  6.21052632\n",
      "  6.68421053  7.15789474  7.63157895  8.10526316  8.57894737  9.05263158\n",
      "  9.52631579 10.        ]\n"
     ]
    }
   ],
   "source": [
    "# Code comes here\n",
    "\n",
    "arr5= np.linspace(1,10,20)\n",
    "print(arr5)"
   ]
  },
  {
   "cell_type": "markdown",
   "id": "fee4622b",
   "metadata": {},
   "source": [
    "## 2.4\n",
    "\n",
    "Run the following code to create an array of shape 4 x 4 and then use indexing to produce the outputs shown below."
   ]
  },
  {
   "cell_type": "code",
   "execution_count": 3,
   "id": "ce54aa24",
   "metadata": {},
   "outputs": [
    {
     "name": "stdout",
     "output_type": "stream",
     "text": [
      "[[ 1  2  3  4  5]\n",
      " [ 6  7  8  9 10]\n",
      " [11 12 13 14 15]\n",
      " [16 17 18 19 20]\n",
      " [21 22 23 24 25]]\n"
     ]
    }
   ],
   "source": [
    "import numpy as np\n",
    "a = np.arange(1, 26).reshape(5, -1)\n",
    "print(a)"
   ]
  },
  {
   "cell_type": "code",
   "execution_count": null,
   "id": "9fb30ef8",
   "metadata": {},
   "outputs": [],
   "source": [
    "20"
   ]
  },
  {
   "cell_type": "code",
   "execution_count": null,
   "id": "e752079a",
   "metadata": {},
   "outputs": [],
   "source": [
    "#Code goes here\n",
    "\n",
    "import numpy as np\n",
    "print ( "
   ]
  },
  {
   "cell_type": "markdown",
   "id": "24c2d6c3",
   "metadata": {},
   "source": [
    "```python\n",
    "array([[ 9, 10],\n",
    "       [14, 15],\n",
    "       [19, 20],\n",
    "       [24, 25]])\n",
    "```"
   ]
  },
  {
   "cell_type": "code",
   "execution_count": 17,
   "id": "d86f1c2f",
   "metadata": {},
   "outputs": [
    {
     "name": "stdout",
     "output_type": "stream",
     "text": [
      "[ 6  7  8  9 10]\n"
     ]
    }
   ],
   "source": [
    "# Code come here\n",
    "\n",
    "array= np.array([6, 7, 8, 9, 10])\n",
    "print(array)"
   ]
  },
  {
   "cell_type": "markdown",
   "id": "984bb786",
   "metadata": {},
   "source": [
    "```python\n",
    "array([ 6,  7,  8,  9, 10])\n",
    "```"
   ]
  },
  {
   "cell_type": "code",
   "execution_count": null,
   "id": "943ec85c",
   "metadata": {},
   "outputs": [],
   "source": [
    "# Code comes here"
   ]
  },
  {
   "cell_type": "markdown",
   "id": "a8e576e0",
   "metadata": {},
   "source": [
    "## 2.5 \n",
    "\n",
    "Calculate the sum of all the numbers in `a`."
   ]
  },
  {
   "cell_type": "code",
   "execution_count": 5,
   "id": "bd34b207",
   "metadata": {},
   "outputs": [
    {
     "name": "stdout",
     "output_type": "stream",
     "text": [
      "[[ 1  2  3  4  5]\n",
      " [ 6  7  8  9 10]\n",
      " [11 12 13 14 15]\n",
      " [16 17 18 19 20]\n",
      " [21 22 23 24 25]]\n",
      "27\n"
     ]
    }
   ],
   "source": [
    "import numpy as np\n",
    "a = np.arange(1, 26).reshape(5, -1)\n",
    "print(a)\n",
    "print(1+26)\n"
   ]
  },
  {
   "cell_type": "markdown",
   "id": "50c3950b",
   "metadata": {},
   "source": [
    "## 2.6 \n",
    "\n",
    "Calculate the sum of each row in `a`."
   ]
  },
  {
   "cell_type": "code",
   "execution_count": 7,
   "id": "de620d7d",
   "metadata": {},
   "outputs": [
    {
     "name": "stdout",
     "output_type": "stream",
     "text": [
      "27\n",
      "4\n"
     ]
    }
   ],
   "source": [
    "# Code comes here\n",
    "print(1+26)\n",
    "print(5+-1)"
   ]
  },
  {
   "cell_type": "markdown",
   "id": "ea9b2c11",
   "metadata": {},
   "source": [
    "## 2.7 \n",
    "\n",
    "Extract all values of `a` greater than the mean of `a` (hint: use a boolean mask)."
   ]
  },
  {
   "cell_type": "code",
   "execution_count": 8,
   "id": "aef9b210",
   "metadata": {},
   "outputs": [
    {
     "ename": "TypeError",
     "evalue": "unsupported operand type(s) for -: 'list' and 'int'",
     "output_type": "error",
     "traceback": [
      "\u001b[0;31m---------------------------------------------------------------------------\u001b[0m",
      "\u001b[0;31mTypeError\u001b[0m                                 Traceback (most recent call last)",
      "Cell \u001b[0;32mIn[8], line 4\u001b[0m\n\u001b[1;32m      1\u001b[0m \u001b[38;5;66;03m# Code comes here\u001b[39;00m\n\u001b[1;32m      3\u001b[0m \u001b[38;5;28;01mimport\u001b[39;00m \u001b[38;5;21;01mnumpy\u001b[39;00m \u001b[38;5;28;01mas\u001b[39;00m \u001b[38;5;21;01mnp\u001b[39;00m\n\u001b[0;32m----> 4\u001b[0m a\u001b[38;5;241m=\u001b[39m \u001b[43mnp\u001b[49m\u001b[38;5;241;43m.\u001b[39;49m\u001b[43marange\u001b[49m\u001b[43m(\u001b[49m\u001b[43m[\u001b[49m\u001b[38;5;28;43;01mFalse\u001b[39;49;00m\u001b[43m,\u001b[49m\u001b[43m \u001b[49m\u001b[38;5;28;43;01mTrue\u001b[39;49;00m\u001b[43m]\u001b[49m\u001b[43m)\u001b[49m\u001b[38;5;241m.\u001b[39mreshape([\u001b[38;5;28;01mFalse\u001b[39;00m, \u001b[38;5;28;01mFalse\u001b[39;00m])\n\u001b[1;32m      5\u001b[0m \u001b[38;5;28mprint\u001b[39m(a)\n",
      "\u001b[0;31mTypeError\u001b[0m: unsupported operand type(s) for -: 'list' and 'int'"
     ]
    }
   ],
   "source": [
    "# Code comes here\n",
    "\n",
    "import numpy as np\n",
    "a= np.arange([False, True]).reshape([False, False])\n",
    "print(a)"
   ]
  },
  {
   "cell_type": "markdown",
   "id": "9c31a0e1",
   "metadata": {},
   "source": [
    "# Practicing Pandas"
   ]
  },
  {
   "cell_type": "markdown",
   "id": "61c04b0c",
   "metadata": {},
   "source": [
    "## 2.8\n",
    "\n",
    "In this set of practice exercises we'll be investigating the carbon footprint of different foods. \n",
    "\n",
    "We'll be leveraging a dataset compiled by [Kasia Kulma](https://r-tastic.co.uk/post/from-messy-to-tidy/) and contributed to [R's Tidy Tuesday project](https://github.com/rfordatascience/tidytuesday).\n",
    "\n",
    "Start by importing pandas with the alias `pd`."
   ]
  },
  {
   "cell_type": "code",
   "execution_count": 18,
   "id": "8b9ede0d",
   "metadata": {},
   "outputs": [],
   "source": [
    "# Codes comes here\n",
    "\n",
    "import pandas as pd"
   ]
  },
  {
   "cell_type": "markdown",
   "id": "3d39a2d7",
   "metadata": {},
   "source": [
    "## 2.9 \n",
    "\n",
    "The dataset we'll be working with has the following columns:\n",
    "\n",
    "|column      |description |\n",
    "|:-------------|:-----------|\n",
    "|country       | Country Name |\n",
    "|food_category | Food Category |\n",
    "|consumption   | Consumption (kg/person/year) |\n",
    "|co2_emmission | Co2 Emission (Kg CO2/person/year) |\n",
    "\n",
    "\n",
    "Import the dataset as a dataframe named `df` from this url: <https://raw.githubusercontent.com/rfordatascience/tidytuesday/master/data/2020/2020-02-18/food_consumption.csv>"
   ]
  },
  {
   "cell_type": "code",
   "execution_count": 10,
   "id": "b39d8ebb",
   "metadata": {},
   "outputs": [
    {
     "data": {
      "text/plain": [
       "<bound method NDFrame.head of          country             food_category  consumption  co2_emmission\n",
       "0      Argentina                      Pork        10.51          37.20\n",
       "1      Argentina                   Poultry        38.66          41.53\n",
       "2      Argentina                      Beef        55.48        1712.00\n",
       "3      Argentina               Lamb & Goat         1.56          54.63\n",
       "4      Argentina                      Fish         4.36           6.96\n",
       "...          ...                       ...          ...            ...\n",
       "1425  Bangladesh        Milk - inc. cheese        21.91          31.21\n",
       "1426  Bangladesh  Wheat and Wheat Products        17.47           3.33\n",
       "1427  Bangladesh                      Rice       171.73         219.76\n",
       "1428  Bangladesh                  Soybeans         0.61           0.27\n",
       "1429  Bangladesh   Nuts inc. Peanut Butter         0.72           1.27\n",
       "\n",
       "[1430 rows x 4 columns]>"
      ]
     },
     "execution_count": 10,
     "metadata": {},
     "output_type": "execute_result"
    }
   ],
   "source": [
    "# Code comes here\n",
    "\n",
    "import pandas as pd\n",
    "\n",
    "df = pd.read_csv('https://raw.githubusercontent.com/rfordatascience/tidytuesday/master/data/2020/2020-02-18/food_consumption.csv')\n",
    "df.head\n"
   ]
  },
  {
   "cell_type": "markdown",
   "id": "f903c8a1",
   "metadata": {},
   "source": [
    "## 2.10 \n",
    "\n",
    "How many rows and columns are there in the dataframe?"
   ]
  },
  {
   "cell_type": "code",
   "execution_count": null,
   "id": "39cd4f89",
   "metadata": {},
   "outputs": [],
   "source": [
    "#Code comes here\n",
    "\n",
    "1430 rows \n",
    "4 columns\n"
   ]
  },
  {
   "cell_type": "markdown",
   "id": "8f0b87b0",
   "metadata": {},
   "source": [
    "## 2.11\n",
    "\n",
    "What is the mean `co2_emission` of the whole dataset?"
   ]
  },
  {
   "cell_type": "code",
   "execution_count": 17,
   "id": "8a8b3edc",
   "metadata": {},
   "outputs": [
    {
     "name": "stdout",
     "output_type": "stream",
     "text": [
      "74.383993006993\n"
     ]
    }
   ],
   "source": [
    "# Code comes here\n",
    "\n",
    "co2_mean = df[\"co2_emmission\"].mean()\n",
    "print(co2_mean)"
   ]
  },
  {
   "cell_type": "markdown",
   "id": "1acb3cc5",
   "metadata": {},
   "source": [
    "## 2.12\n",
    "\n",
    "What is the maximum `co2_emmission` in the dataset and which food type and country does it belong to?"
   ]
  },
  {
   "cell_type": "code",
   "execution_count": 20,
   "id": "04f58ddd",
   "metadata": {},
   "outputs": [
    {
     "name": "stdout",
     "output_type": "stream",
     "text": [
      "1712.0\n"
     ]
    }
   ],
   "source": [
    "# Code comes here\n",
    "\n",
    "co2_max = df[\"co2_emmission\"].max()\n",
    "print(co2_max)"
   ]
  },
  {
   "cell_type": "markdown",
   "id": "68ba75e4",
   "metadata": {},
   "source": [
    "## 2.13\n",
    "\n",
    "How many countries produce more than 1000 Kg CO2/person/year for at least one food type?"
   ]
  },
  {
   "cell_type": "code",
   "execution_count": 57,
   "id": "0dac7b68",
   "metadata": {},
   "outputs": [
    {
     "name": "stdout",
     "output_type": "stream",
     "text": [
      "       country food_category  consumption  co2_emmission\n",
      "2    Argentina          Beef        55.48        1712.00\n",
      "13   Australia          Beef        33.86        1044.85\n",
      "57         USA          Beef        36.24        1118.29\n",
      "90      Brazil          Beef        39.25        1211.17\n",
      "123    Bermuda          Beef        33.15        1022.94\n",
      "\n",
      "5\n",
      "\n"
     ]
    }
   ],
   "source": [
    "#code comes here\n",
    "\n",
    "import pandas as pd\n",
    "\n",
    "foodproduction_prod = df[(df[\"food_category\"]==\"Beef\") & (df[\"co2_emmission\"]>1000)]\n",
    "print(foodproduction_prod)\n",
    "print('')\n",
    "print(len(foodproduction_prod))\n",
    "print('')\n"
   ]
  },
  {
   "cell_type": "markdown",
   "id": "507fe1cd",
   "metadata": {},
   "source": [
    "## 2.14\n",
    "\n",
    "Which country consumes the least amount of beef per person per year?\n"
   ]
  },
  {
   "cell_type": "code",
   "execution_count": 61,
   "id": "e4bf7f60",
   "metadata": {},
   "outputs": [
    {
     "ename": "KeyError",
     "evalue": "'Beef'",
     "output_type": "error",
     "traceback": [
      "\u001b[0;31m---------------------------------------------------------------------------\u001b[0m",
      "\u001b[0;31mKeyError\u001b[0m                                  Traceback (most recent call last)",
      "Cell \u001b[0;32mIn[61], line 3\u001b[0m\n\u001b[1;32m      1\u001b[0m \u001b[38;5;66;03m# code comes here\u001b[39;00m\n\u001b[0;32m----> 3\u001b[0m beef_min \u001b[38;5;241m=\u001b[39m \u001b[43mdf\u001b[49m\u001b[38;5;241;43m.\u001b[39;49m\u001b[43mgroupby\u001b[49m\u001b[43m(\u001b[49m\u001b[38;5;124;43m\"\u001b[39;49m\u001b[38;5;124;43mBeef\u001b[39;49m\u001b[38;5;124;43m\"\u001b[39;49m\u001b[43m)\u001b[49m [\u001b[38;5;124m'\u001b[39m\u001b[38;5;124mconsumption\u001b[39m\u001b[38;5;124m'\u001b[39m]\u001b[38;5;241m.\u001b[39mmin()\n\u001b[1;32m      4\u001b[0m \u001b[38;5;28mprint\u001b[39m(beef_min)\n",
      "File \u001b[0;32m~/miniconda3/envs/py4sa/lib/python3.10/site-packages/pandas/core/frame.py:8402\u001b[0m, in \u001b[0;36mDataFrame.groupby\u001b[0;34m(self, by, axis, level, as_index, sort, group_keys, squeeze, observed, dropna)\u001b[0m\n\u001b[1;32m   8399\u001b[0m     \u001b[38;5;28;01mraise\u001b[39;00m \u001b[38;5;167;01mTypeError\u001b[39;00m(\u001b[38;5;124m\"\u001b[39m\u001b[38;5;124mYou have to supply one of \u001b[39m\u001b[38;5;124m'\u001b[39m\u001b[38;5;124mby\u001b[39m\u001b[38;5;124m'\u001b[39m\u001b[38;5;124m and \u001b[39m\u001b[38;5;124m'\u001b[39m\u001b[38;5;124mlevel\u001b[39m\u001b[38;5;124m'\u001b[39m\u001b[38;5;124m\"\u001b[39m)\n\u001b[1;32m   8400\u001b[0m axis \u001b[38;5;241m=\u001b[39m \u001b[38;5;28mself\u001b[39m\u001b[38;5;241m.\u001b[39m_get_axis_number(axis)\n\u001b[0;32m-> 8402\u001b[0m \u001b[38;5;28;01mreturn\u001b[39;00m \u001b[43mDataFrameGroupBy\u001b[49m\u001b[43m(\u001b[49m\n\u001b[1;32m   8403\u001b[0m \u001b[43m    \u001b[49m\u001b[43mobj\u001b[49m\u001b[38;5;241;43m=\u001b[39;49m\u001b[38;5;28;43mself\u001b[39;49m\u001b[43m,\u001b[49m\n\u001b[1;32m   8404\u001b[0m \u001b[43m    \u001b[49m\u001b[43mkeys\u001b[49m\u001b[38;5;241;43m=\u001b[39;49m\u001b[43mby\u001b[49m\u001b[43m,\u001b[49m\n\u001b[1;32m   8405\u001b[0m \u001b[43m    \u001b[49m\u001b[43maxis\u001b[49m\u001b[38;5;241;43m=\u001b[39;49m\u001b[43maxis\u001b[49m\u001b[43m,\u001b[49m\n\u001b[1;32m   8406\u001b[0m \u001b[43m    \u001b[49m\u001b[43mlevel\u001b[49m\u001b[38;5;241;43m=\u001b[39;49m\u001b[43mlevel\u001b[49m\u001b[43m,\u001b[49m\n\u001b[1;32m   8407\u001b[0m \u001b[43m    \u001b[49m\u001b[43mas_index\u001b[49m\u001b[38;5;241;43m=\u001b[39;49m\u001b[43mas_index\u001b[49m\u001b[43m,\u001b[49m\n\u001b[1;32m   8408\u001b[0m \u001b[43m    \u001b[49m\u001b[43msort\u001b[49m\u001b[38;5;241;43m=\u001b[39;49m\u001b[43msort\u001b[49m\u001b[43m,\u001b[49m\n\u001b[1;32m   8409\u001b[0m \u001b[43m    \u001b[49m\u001b[43mgroup_keys\u001b[49m\u001b[38;5;241;43m=\u001b[39;49m\u001b[43mgroup_keys\u001b[49m\u001b[43m,\u001b[49m\n\u001b[1;32m   8410\u001b[0m \u001b[43m    \u001b[49m\u001b[43msqueeze\u001b[49m\u001b[38;5;241;43m=\u001b[39;49m\u001b[43msqueeze\u001b[49m\u001b[43m,\u001b[49m\n\u001b[1;32m   8411\u001b[0m \u001b[43m    \u001b[49m\u001b[43mobserved\u001b[49m\u001b[38;5;241;43m=\u001b[39;49m\u001b[43mobserved\u001b[49m\u001b[43m,\u001b[49m\n\u001b[1;32m   8412\u001b[0m \u001b[43m    \u001b[49m\u001b[43mdropna\u001b[49m\u001b[38;5;241;43m=\u001b[39;49m\u001b[43mdropna\u001b[49m\u001b[43m,\u001b[49m\n\u001b[1;32m   8413\u001b[0m \u001b[43m\u001b[49m\u001b[43m)\u001b[49m\n",
      "File \u001b[0;32m~/miniconda3/envs/py4sa/lib/python3.10/site-packages/pandas/core/groupby/groupby.py:965\u001b[0m, in \u001b[0;36mGroupBy.__init__\u001b[0;34m(self, obj, keys, axis, level, grouper, exclusions, selection, as_index, sort, group_keys, squeeze, observed, mutated, dropna)\u001b[0m\n\u001b[1;32m    962\u001b[0m \u001b[38;5;28;01mif\u001b[39;00m grouper \u001b[38;5;129;01mis\u001b[39;00m \u001b[38;5;28;01mNone\u001b[39;00m:\n\u001b[1;32m    963\u001b[0m     \u001b[38;5;28;01mfrom\u001b[39;00m \u001b[38;5;21;01mpandas\u001b[39;00m\u001b[38;5;21;01m.\u001b[39;00m\u001b[38;5;21;01mcore\u001b[39;00m\u001b[38;5;21;01m.\u001b[39;00m\u001b[38;5;21;01mgroupby\u001b[39;00m\u001b[38;5;21;01m.\u001b[39;00m\u001b[38;5;21;01mgrouper\u001b[39;00m \u001b[38;5;28;01mimport\u001b[39;00m get_grouper\n\u001b[0;32m--> 965\u001b[0m     grouper, exclusions, obj \u001b[38;5;241m=\u001b[39m \u001b[43mget_grouper\u001b[49m\u001b[43m(\u001b[49m\n\u001b[1;32m    966\u001b[0m \u001b[43m        \u001b[49m\u001b[43mobj\u001b[49m\u001b[43m,\u001b[49m\n\u001b[1;32m    967\u001b[0m \u001b[43m        \u001b[49m\u001b[43mkeys\u001b[49m\u001b[43m,\u001b[49m\n\u001b[1;32m    968\u001b[0m \u001b[43m        \u001b[49m\u001b[43maxis\u001b[49m\u001b[38;5;241;43m=\u001b[39;49m\u001b[43maxis\u001b[49m\u001b[43m,\u001b[49m\n\u001b[1;32m    969\u001b[0m \u001b[43m        \u001b[49m\u001b[43mlevel\u001b[49m\u001b[38;5;241;43m=\u001b[39;49m\u001b[43mlevel\u001b[49m\u001b[43m,\u001b[49m\n\u001b[1;32m    970\u001b[0m \u001b[43m        \u001b[49m\u001b[43msort\u001b[49m\u001b[38;5;241;43m=\u001b[39;49m\u001b[43msort\u001b[49m\u001b[43m,\u001b[49m\n\u001b[1;32m    971\u001b[0m \u001b[43m        \u001b[49m\u001b[43mobserved\u001b[49m\u001b[38;5;241;43m=\u001b[39;49m\u001b[43mobserved\u001b[49m\u001b[43m,\u001b[49m\n\u001b[1;32m    972\u001b[0m \u001b[43m        \u001b[49m\u001b[43mmutated\u001b[49m\u001b[38;5;241;43m=\u001b[39;49m\u001b[38;5;28;43mself\u001b[39;49m\u001b[38;5;241;43m.\u001b[39;49m\u001b[43mmutated\u001b[49m\u001b[43m,\u001b[49m\n\u001b[1;32m    973\u001b[0m \u001b[43m        \u001b[49m\u001b[43mdropna\u001b[49m\u001b[38;5;241;43m=\u001b[39;49m\u001b[38;5;28;43mself\u001b[39;49m\u001b[38;5;241;43m.\u001b[39;49m\u001b[43mdropna\u001b[49m\u001b[43m,\u001b[49m\n\u001b[1;32m    974\u001b[0m \u001b[43m    \u001b[49m\u001b[43m)\u001b[49m\n\u001b[1;32m    976\u001b[0m \u001b[38;5;28mself\u001b[39m\u001b[38;5;241m.\u001b[39mobj \u001b[38;5;241m=\u001b[39m obj\n\u001b[1;32m    977\u001b[0m \u001b[38;5;28mself\u001b[39m\u001b[38;5;241m.\u001b[39maxis \u001b[38;5;241m=\u001b[39m obj\u001b[38;5;241m.\u001b[39m_get_axis_number(axis)\n",
      "File \u001b[0;32m~/miniconda3/envs/py4sa/lib/python3.10/site-packages/pandas/core/groupby/grouper.py:888\u001b[0m, in \u001b[0;36mget_grouper\u001b[0;34m(obj, key, axis, level, sort, observed, mutated, validate, dropna)\u001b[0m\n\u001b[1;32m    886\u001b[0m         in_axis, level, gpr \u001b[38;5;241m=\u001b[39m \u001b[38;5;28;01mFalse\u001b[39;00m, gpr, \u001b[38;5;28;01mNone\u001b[39;00m\n\u001b[1;32m    887\u001b[0m     \u001b[38;5;28;01melse\u001b[39;00m:\n\u001b[0;32m--> 888\u001b[0m         \u001b[38;5;28;01mraise\u001b[39;00m \u001b[38;5;167;01mKeyError\u001b[39;00m(gpr)\n\u001b[1;32m    889\u001b[0m \u001b[38;5;28;01melif\u001b[39;00m \u001b[38;5;28misinstance\u001b[39m(gpr, Grouper) \u001b[38;5;129;01mand\u001b[39;00m gpr\u001b[38;5;241m.\u001b[39mkey \u001b[38;5;129;01mis\u001b[39;00m \u001b[38;5;129;01mnot\u001b[39;00m \u001b[38;5;28;01mNone\u001b[39;00m:\n\u001b[1;32m    890\u001b[0m     \u001b[38;5;66;03m# Add key to exclusions\u001b[39;00m\n\u001b[1;32m    891\u001b[0m     exclusions\u001b[38;5;241m.\u001b[39madd(gpr\u001b[38;5;241m.\u001b[39mkey)\n",
      "\u001b[0;31mKeyError\u001b[0m: 'Beef'"
     ]
    }
   ],
   "source": [
    "# code comes here\n",
    "\n",
    "beef_min = df.groupby(\"Beef\") ['consumption'].min()\n",
    "print(beef_min)"
   ]
  },
  {
   "cell_type": "markdown",
   "id": "e40cbc79",
   "metadata": {},
   "source": [
    "## 2.15\n",
    "\n",
    "What is the total emissions of all the meat products (Pork, Poultry, Fish, Lamb & Goat, Beef) in the dataset combined?"
   ]
  },
  {
   "cell_type": "code",
   "execution_count": null,
   "id": "932f7976",
   "metadata": {},
   "outputs": [],
   "source": [
    "# code comes here"
   ]
  },
  {
   "cell_type": "markdown",
   "id": "2e01f760",
   "metadata": {},
   "source": [
    "# 2.16 \n",
    "\n",
    "What is the total emissions of all other (non-meat) products in the dataset combined?"
   ]
  },
  {
   "cell_type": "code",
   "execution_count": null,
   "id": "6d0c8ac4",
   "metadata": {},
   "outputs": [],
   "source": [
    "# code comes here"
   ]
  },
  {
   "cell_type": "markdown",
   "id": "24d092f5",
   "metadata": {},
   "source": [
    "## Well done!\n",
    "\n",
    "That's all from this week, if you have any questions, do not forget to ask the TAs for assistance."
   ]
  }
 ],
 "metadata": {
  "kernelspec": {
   "display_name": "Python 3 (ipykernel)",
   "language": "python",
   "name": "python3"
  },
  "language_info": {
   "codemirror_mode": {
    "name": "ipython",
    "version": 3
   },
   "file_extension": ".py",
   "mimetype": "text/x-python",
   "name": "python",
   "nbconvert_exporter": "python",
   "pygments_lexer": "ipython3",
   "version": "3.10.9"
  },
  "vscode": {
   "interpreter": {
    "hash": "a62a218f45948969006c944db2ca1c519af623da5e08f864ae6aafcacb945df1"
   }
  }
 },
 "nbformat": 4,
 "nbformat_minor": 5
}
